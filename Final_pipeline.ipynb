{
  "nbformat": 4,
  "nbformat_minor": 0,
  "metadata": {
    "colab": {
      "provenance": [],
      "authorship_tag": "ABX9TyMBiLzsnPLjZgBn662FhfUD",
      "include_colab_link": true
    },
    "kernelspec": {
      "name": "python3",
      "display_name": "Python 3"
    },
    "language_info": {
      "name": "python"
    }
  },
  "cells": [
    {
      "cell_type": "markdown",
      "metadata": {
        "id": "view-in-github",
        "colab_type": "text"
      },
      "source": [
        "<a href=\"https://colab.research.google.com/github/kovzanok/dls-final-task/blob/main/Final_pipeline.ipynb\" target=\"_parent\"><img src=\"https://colab.research.google.com/assets/colab-badge.svg\" alt=\"Open In Colab\"/></a>"
      ]
    },
    {
      "cell_type": "markdown",
      "source": [
        "#Установка зависимостей"
      ],
      "metadata": {
        "id": "AOEZErGR8Im2"
      }
    },
    {
      "cell_type": "code",
      "execution_count": null,
      "metadata": {
        "id": "YVvP9bua7dPC"
      },
      "outputs": [],
      "source": [
        "pip install insightface"
      ]
    },
    {
      "cell_type": "code",
      "source": [
        "from torch import nn\n",
        "from insightface.app import FaceAnalysis\n",
        "from torch.utils.data import Dataset, DataLoader\n",
        "from PIL import Image\n",
        "import torchvision.transforms as transforms\n",
        "import torchvision.utils as vutils\n",
        "import torch\n",
        "import numpy as np\n",
        "import pandas as pd\n",
        "import matplotlib.pyplot as plt\n",
        "from tqdm.auto import tqdm\n",
        "import torchvision.transforms.functional as TF\n",
        "import cv2\n",
        "\n",
        "import random\n",
        "import os"
      ],
      "metadata": {
        "id": "F-syuo6971s7"
      },
      "execution_count": null,
      "outputs": []
    },
    {
      "cell_type": "code",
      "source": [
        "device = torch.device('cuda' if torch.cuda.is_available() else 'cpu')"
      ],
      "metadata": {
        "id": "QcahxqPA76oj"
      },
      "execution_count": null,
      "outputs": []
    },
    {
      "cell_type": "markdown",
      "source": [
        "#Подготовка данных"
      ],
      "metadata": {
        "id": "-p_Nstz5Efn6"
      }
    },
    {
      "cell_type": "code",
      "source": [
        "from google.colab import drive\n",
        "drive.mount('/content/drive')"
      ],
      "metadata": {
        "id": "Qjdbys8VEuNp"
      },
      "execution_count": null,
      "outputs": []
    },
    {
      "cell_type": "markdown",
      "source": [
        "##Архив изображений"
      ],
      "metadata": {
        "id": "L2GSKGa2FZGg"
      }
    },
    {
      "cell_type": "code",
      "source": [
        "!unzip -q /content/drive/MyDrive/img_align_celeba.zip -d /content/celeba/"
      ],
      "metadata": {
        "id": "NhahpP8ZErfR"
      },
      "execution_count": null,
      "outputs": []
    },
    {
      "cell_type": "markdown",
      "source": [
        "##Разметка \"имя изображения  - id\""
      ],
      "metadata": {
        "id": "C0svZHzYFec_"
      }
    },
    {
      "cell_type": "code",
      "source": [
        "df = pd.read_csv('/content/drive/MyDrive/identity_CelebA.txt', delim_whitespace=True, header=None,index_col=0)"
      ],
      "metadata": {
        "id": "DZDXVmWoEv3g"
      },
      "execution_count": null,
      "outputs": []
    },
    {
      "cell_type": "code",
      "source": [
        "df.index.name = 'image_name'\n",
        "df.rename(columns={1:'id'},inplace=True)"
      ],
      "metadata": {
        "id": "gqEOz8ppFCYG"
      },
      "execution_count": null,
      "outputs": []
    },
    {
      "cell_type": "code",
      "source": [
        "def get_filenames_os(folder_path):\n",
        "    files = [f for f in os.listdir(folder_path) if os.path.isfile(os.path.join(folder_path, f))]\n",
        "    return files"
      ],
      "metadata": {
        "id": "xU6bZ60dFNpI"
      },
      "execution_count": null,
      "outputs": []
    },
    {
      "cell_type": "code",
      "source": [
        "filenames = get_filenames_os('/content/content/stage_3_dataset')\n",
        "filtered_df = df.loc[filenames]\n",
        "le = LabelEncoder()\n",
        "filtered_df['encoded_id'] = le.fit_transform(filtered_df['id'])"
      ],
      "metadata": {
        "id": "V_qyBaJDaFsT"
      },
      "outputs": [],
      "execution_count": null
    },
    {
      "cell_type": "markdown",
      "source": [
        "#Пайплайн"
      ],
      "metadata": {
        "id": "E8engd9F8MPz"
      }
    },
    {
      "cell_type": "code",
      "source": [],
      "metadata": {
        "id": "3ZMiqcU28N7d"
      },
      "execution_count": null,
      "outputs": []
    }
  ]
}