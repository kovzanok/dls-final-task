{
  "nbformat": 4,
  "nbformat_minor": 0,
  "metadata": {
    "colab": {
      "provenance": [],
      "include_colab_link": true
    },
    "kernelspec": {
      "name": "python3",
      "display_name": "Python 3"
    },
    "language_info": {
      "name": "python"
    }
  },
  "cells": [
    {
      "cell_type": "markdown",
      "metadata": {
        "id": "view-in-github",
        "colab_type": "text"
      },
      "source": [
        "<a href=\"https://colab.research.google.com/github/kovzanok/dls-final-task/blob/main/1_FaceAlignment.ipynb\" target=\"_parent\"><img src=\"https://colab.research.google.com/assets/colab-badge.svg\" alt=\"Open In Colab\"/></a>"
      ]
    },
    {
      "cell_type": "markdown",
      "source": [
        "# Face Alignment"
      ],
      "metadata": {
        "id": "KzqOrj12f0xj"
      }
    },
    {
      "cell_type": "markdown",
      "source": [
        "## Архитектура Stacked Hourglass Network"
      ],
      "metadata": {
        "id": "EL-A4pxCgFW3"
      }
    },
    {
      "cell_type": "markdown",
      "source": [
        "**Hourglass** — это U-Net-подобная структура, которая сначала уменьшает разрешение изображения, затем восстанавливает его обратно. Такая структура напоминает по форме песочные часы (hourglass).\n",
        "\n",
        "**Stacked Hourglass Network** состоит Hourglass-блоков, каждый из которых старается уточнять результат предыдущего. Несмотря на то, что она придумана в 2016 году, до сих пор используется во многих исследовательских проектах для задачи обнаружения ключевых точек."
      ],
      "metadata": {
        "id": "qCcIzaPKQUXX"
      }
    },
    {
      "cell_type": "markdown",
      "source": [
        "![image](https://production-media.paperswithcode.com/methods/Screen_Shot_2020-06-23_at_12.49.50_PM.png)"
      ],
      "metadata": {
        "id": "VnMxe71DfOQC"
      }
    },
    {
      "cell_type": "markdown",
      "source": [
        "### Hourglass module"
      ],
      "metadata": {
        "id": "ORfrDj7604y7"
      }
    },
    {
      "cell_type": "markdown",
      "source": [
        "Посмотрим подробнее на структуру **отдельного Hourglass-блока**"
      ],
      "metadata": {
        "id": "1BkzHwNcgjwD"
      }
    },
    {
      "cell_type": "markdown",
      "source": [
        "![retrt](https://production-media.paperswithcode.com/methods/Screen_Shot_2020-06-23_at_12.50.12_PM.png)"
      ],
      "metadata": {
        "id": "GC8ctpVSjx8f"
      }
    },
    {
      "cell_type": "markdown",
      "source": [
        "Каждый бокс в этой схеме - это Residual block, который отвечает за извлечение признаков на разных уровнях детализации (вспоминаем про ResNet). Причем, каждый такой блок иммеет одинаковую размерность на входе и на выходе.\n",
        "\n",
        "Downsampling и upsampling можно делать разными способами.\n",
        "\n",
        "*   Для Downsampling: nn.MaxPool2d или nn.Conv2d\n",
        "*   Для Upsampling: nn.Upsample или nn.ConvTranspose2d\n",
        "\n",
        "Основная разница: maxpool и upsample - необучаемые слои в отличие от сверток. Это может как быть как минусом, так и плюсом: чем больше параметров - тем медленее идет процесс обучения (при этом не факт, что результаты будут лучше).\n",
        "\n",
        "То есть, идейно все практически также как было в U-net: полностью симметричная архитектура, сначала идет преобразование в более низкоразмерное пространство, а потом декодирование обратно с пробросами результатов из соотвествующих слоев энкодера. Разница лишь в том, что теперь каждый кирпичик - это Residual block."
      ],
      "metadata": {
        "id": "pFfgyC02xW1r"
      }
    },
    {
      "cell_type": "markdown",
      "source": [
        "А вот реализация ResidualBlock вам в помощь!\n",
        "\n",
        "Но можете ее править под себя, если очень хочется."
      ],
      "metadata": {
        "id": "KTujcry6RvrR"
      }
    },
    {
      "cell_type": "markdown",
      "source": [
        "При построении архитектуры Hourglass-блоков **не обязательно полностью повторять архитектуру**, которая представлена на картинке из статьи. Вы можете добавлять больше или меньше модулей, некоторые блоки вообще можно не использовать. В целом, это творческая задача и вы вольны делать так, как вам самим хочется. **Главное - чтобы ваша реализация соотвествовала изначальной идее Hourglass, и итоговые результаты были достаточно хорошими.**"
      ],
      "metadata": {
        "id": "E5VgRrp7dhHh"
      }
    },
    {
      "cell_type": "markdown",
      "source": [
        "### Stacked Hourglass Network"
      ],
      "metadata": {
        "id": "l53fOmfs4i_j"
      }
    },
    {
      "cell_type": "markdown",
      "source": [
        "Как и было сказано ранее, Stacked Hourglass - это набор одинаковых Hourglass блоков (см. схематический рисунок в начале ноутбука). Но что это за блок между каждыми двумя Hourglass? Чтобы ответить на этот вопрос, нужно сначала разобраться с тем, что мы будем получать на выходе такой нейронной сети.\n",
        "\n",
        "Предсказывать ключевые точки лица можно поразному. Есть два основных подхода:\n",
        "\n",
        "1.   Регрессия - предсказывает координаты точек лица напрямую -> $(N, x, y)$.\n",
        "2.   Heatmap - предсказывает карту вероятностей на выходе, а наиболее подходящие точки находятся через argmax\n",
        "\n",
        "Не вдваясь в подробности, можно просто сказать, что Heatmap-подход показал себя лучше из-за своей устойчивости к шумам и начальным условиям. В качестве функции потерь в таком случае используют обычный **MSE loss**.\n",
        "\n",
        "В Stacked Hourglass **используется именно heatmap-подход**. И на выходе каждого Hourglass-блока находится слой (голова), который создает heatmap нужного размера. Обычно это какие-то стандартные варианты по типу *Conv -> BatchNorm -> Relu -> Conv* или просто *Conv*. Каждая heatmap'a прокидывается на следующую голову, и они суммируются, и так, пока слои не закончатся.\n",
        "\n",
        "Такой подход нужен для реализации **Intermediate Supervision**. Если говорить простыми словами, то это такой вариант обучения нейронной сети, когда мы подсчитываем лосс не только по финальному выходу сети, а также на некоторых промежуточных слоях (головах). Градиенты в этом случае тоже распространяются не только через последний выход, но и через промежуточные уровни. Эти головы не влияют на финальное предсказание напрямую, но помогают модели быстрее и лучше учиться. На практике это означет следующее:\n",
        "\n",
        "Нужно посчитать лосс (таргет для всех одинаковый) для каждой головы отдельно, а потом просуммировать. Далее Pytorch сам построит за вас весь граф вычислений и правильно запустит везде градиенты. В коде это выглядит так:\n",
        "\n",
        "```\n",
        "outputs = model(image)  # outputs — список из N heatmaps от разных голов\n",
        "losses = [loss_function(output, target) for output in outputs]\n",
        "total_loss = sum(losses)\n",
        "total_loss.backward()\n",
        "optimizer.step()\n",
        "```\n",
        "\n",
        "Подведем **итоги по архитектуре**.\n",
        "\n",
        "Stacked Hourglass состоит из Hourglass-блоков, после каждого такого блока идет голова, которая предсказывает heatmap'у. Каждая heatmap'а суммируется с предыдущей. Градиенты при обучении текут с каждой головы, а не только через последний выход сети.\n",
        "\n",
        "Подробно про Stacked Hourglass Network можно прочитать в [оригинальной статье](https://arxiv.org/pdf/1603.06937)."
      ],
      "metadata": {
        "id": "g-eXEnTZ4lzw"
      }
    },
    {
      "cell_type": "markdown",
      "source": [
        "## Датасет"
      ],
      "metadata": {
        "id": "awt70vT4INrJ"
      }
    },
    {
      "cell_type": "markdown",
      "source": [
        "Есть множество датасетов для этой задачи, но для наших целей должно хватить и [CelebA](https://www.kaggle.com/datasets/jessicali9530/celeba-dataset). К сожалению или к счастью в разметке там всего 5 точек\n",
        "\n",
        "1.   Левый глаз\n",
        "2.   Правый глаз\n",
        "3.   Нос\n",
        "4.   Левый уголок рта\n",
        "5.   Правый уголок рта\n",
        "\n",
        "\n",
        "Единственная проблема заключается в том, что разметка - это именно точки, а не heatmap'ы. Но можно их сгенерировать самостоятельно при помощи гауссовского распределения вокруг размеченных точек. Вот вам функции в помощь. Можете их тоже редактивовать под себя, если нужно."
      ],
      "metadata": {
        "id": "W44IH6v6IQqq"
      }
    },
    {
      "cell_type": "markdown",
      "source": [
        "Сам по себе CelebA избыточно большой для нашей задачи, поэтому можете использовать только его часть. Также, имеет смысл заранее кропнуть картинки таким образом, чтобы на них остались только лица, ну или по крайней мере минимум всего остального."
      ],
      "metadata": {
        "id": "CB4tkC6shLYB"
      }
    },
    {
      "cell_type": "markdown",
      "source": [
        "## Выравнивание по предсказанным точкам"
      ],
      "metadata": {
        "id": "3j9aXyK4R874"
      }
    },
    {
      "cell_type": "markdown",
      "source": [
        "Существует множество вариантов, как по полученным точкам правильно преобразовать картинку. Главное, что вам нужно понимать - **это задача классического компьютерного зрения** и решается при помощи математики, без нейронок. Вдаваться в подробности конкретных алгоритмов мы не будем.\n",
        "\n",
        "Можно использовать аффинное преобразование, тогда потребуется только 3 точки, можно, например, искать матрицу гомографии, где может быть использовано больше точек, а может быть, есть еще что-то. Реализовывать эти алгоритмы самим не нужно. Достаточно провести небольшой ресерч и найти готовое решение (но **не готовую нейронку для выравнивания**), лишь бы оно работало. Количество используемых точек тоже выбирайте сами, подойдет любой вариант. Условный ориентир для поиска - библиотека **opencv**."
      ],
      "metadata": {
        "id": "jms68U10SCvF"
      }
    },
    {
      "cell_type": "markdown",
      "source": [
        "# План заданий"
      ],
      "metadata": {
        "id": "_g1vDgOpU1Gh"
      }
    },
    {
      "cell_type": "markdown",
      "source": [
        "По итогу, в этом блоке у вас следующие задачи:\n",
        "\n",
        "\n",
        "*   Реализовать Hourglass блок\n",
        "*   Реализовать Stacked Hourglass\n",
        "*   Подготовить датасет, преобразовав точки в Heatmap'ы\n",
        "*   Обучить модель\n",
        "*   Найти или реализовать функцию, которая бы по предсказанным ключевым точкам делала бы выравнивание лица на картинке (face alignment)\n",
        "\n",
        "**P.S. Не забывайте сохранять модели после обучения и выводите промежуточные результаты на экран**\n",
        "\n"
      ],
      "metadata": {
        "id": "7iLkHjkoU_ep"
      }
    },
    {
      "cell_type": "code",
      "source": [
        "import numpy as np\n",
        "\n",
        "def create_heatmap(size, landmark, sigma=2):\n",
        "    \"\"\"\n",
        "    Создаёт один heatmap с гауссовым ядром вокруг точки.\n",
        "\n",
        "    :param size: (height, width) — размер heatmap'а\n",
        "    :param landmark:(x, y) — координаты точки\n",
        "    :param sigma\n",
        "    :return: heatmap массив\n",
        "    \"\"\"\n",
        "    x, y = landmark\n",
        "    h, w = size\n",
        "\n",
        "    # Обрезаем координаты, чтобы не выйти за пределы изображения\n",
        "    x = min(max(0, int(x)), w - 1)\n",
        "    y = min(max(0, int(y)), h - 1)\n",
        "\n",
        "    xx, yy = np.meshgrid(np.arange(w), np.arange(h))\n",
        "    heatmap = np.exp(-((yy - y)**2 + (xx - x)**2) / (2 * sigma**2))\n",
        "    return heatmap\n",
        "\n",
        "\n",
        "def landmarks_to_heatmaps(image_shape, landmarks, sigma=2):\n",
        "    \"\"\"\n",
        "    Преобразует список из N точек в набор из N heatmap'ов.\n",
        "\n",
        "    :param image_shape: исходный размер изображения (H, W)\n",
        "    :param landmarks: список из N пар координат [(x1, y1), (x2, y2), ..., (xN, yN),]\n",
        "    :param sigma:\n",
        "    :return: массив heatmap'ов вида [N, H, W]\n",
        "    \"\"\"\n",
        "    heatmaps = []\n",
        "\n",
        "    for landmark in landmarks:\n",
        "        hm = create_heatmap(image_shape, landmark, sigma=sigma)\n",
        "        heatmaps.append(hm)\n",
        "\n",
        "    return np.array(heatmaps)"
      ],
      "metadata": {
        "id": "VAZC55CnIPlU"
      },
      "execution_count": 83,
      "outputs": []
    },
    {
      "cell_type": "markdown",
      "source": [
        "**Удачи! У вас всё получится 💗!**"
      ],
      "metadata": {
        "id": "EFoJGPw2Vkxb"
      }
    },
    {
      "cell_type": "code",
      "source": [
        "!pip install -q kaggle"
      ],
      "metadata": {
        "id": "Bv9hw4DXQyyv"
      },
      "execution_count": 5,
      "outputs": []
    },
    {
      "cell_type": "code",
      "source": [
        "# Загрузи токен вручную (если у тебя уже есть kaggle.json):\n",
        "from google.colab import files\n",
        "files.upload()  # Загрузи файл kaggle.json"
      ],
      "metadata": {
        "id": "T11YQDn0Q05d",
        "outputId": "af560d0c-88d0-4f0f-e4a5-d451923d48dc",
        "colab": {
          "base_uri": "https://localhost:8080/",
          "height": 89
        }
      },
      "execution_count": 6,
      "outputs": [
        {
          "output_type": "display_data",
          "data": {
            "text/plain": [
              "<IPython.core.display.HTML object>"
            ],
            "text/html": [
              "\n",
              "     <input type=\"file\" id=\"files-a5e1b744-9363-4b94-a642-4613c2cb380d\" name=\"files[]\" multiple disabled\n",
              "        style=\"border:none\" />\n",
              "     <output id=\"result-a5e1b744-9363-4b94-a642-4613c2cb380d\">\n",
              "      Upload widget is only available when the cell has been executed in the\n",
              "      current browser session. Please rerun this cell to enable.\n",
              "      </output>\n",
              "      <script>// Copyright 2017 Google LLC\n",
              "//\n",
              "// Licensed under the Apache License, Version 2.0 (the \"License\");\n",
              "// you may not use this file except in compliance with the License.\n",
              "// You may obtain a copy of the License at\n",
              "//\n",
              "//      http://www.apache.org/licenses/LICENSE-2.0\n",
              "//\n",
              "// Unless required by applicable law or agreed to in writing, software\n",
              "// distributed under the License is distributed on an \"AS IS\" BASIS,\n",
              "// WITHOUT WARRANTIES OR CONDITIONS OF ANY KIND, either express or implied.\n",
              "// See the License for the specific language governing permissions and\n",
              "// limitations under the License.\n",
              "\n",
              "/**\n",
              " * @fileoverview Helpers for google.colab Python module.\n",
              " */\n",
              "(function(scope) {\n",
              "function span(text, styleAttributes = {}) {\n",
              "  const element = document.createElement('span');\n",
              "  element.textContent = text;\n",
              "  for (const key of Object.keys(styleAttributes)) {\n",
              "    element.style[key] = styleAttributes[key];\n",
              "  }\n",
              "  return element;\n",
              "}\n",
              "\n",
              "// Max number of bytes which will be uploaded at a time.\n",
              "const MAX_PAYLOAD_SIZE = 100 * 1024;\n",
              "\n",
              "function _uploadFiles(inputId, outputId) {\n",
              "  const steps = uploadFilesStep(inputId, outputId);\n",
              "  const outputElement = document.getElementById(outputId);\n",
              "  // Cache steps on the outputElement to make it available for the next call\n",
              "  // to uploadFilesContinue from Python.\n",
              "  outputElement.steps = steps;\n",
              "\n",
              "  return _uploadFilesContinue(outputId);\n",
              "}\n",
              "\n",
              "// This is roughly an async generator (not supported in the browser yet),\n",
              "// where there are multiple asynchronous steps and the Python side is going\n",
              "// to poll for completion of each step.\n",
              "// This uses a Promise to block the python side on completion of each step,\n",
              "// then passes the result of the previous step as the input to the next step.\n",
              "function _uploadFilesContinue(outputId) {\n",
              "  const outputElement = document.getElementById(outputId);\n",
              "  const steps = outputElement.steps;\n",
              "\n",
              "  const next = steps.next(outputElement.lastPromiseValue);\n",
              "  return Promise.resolve(next.value.promise).then((value) => {\n",
              "    // Cache the last promise value to make it available to the next\n",
              "    // step of the generator.\n",
              "    outputElement.lastPromiseValue = value;\n",
              "    return next.value.response;\n",
              "  });\n",
              "}\n",
              "\n",
              "/**\n",
              " * Generator function which is called between each async step of the upload\n",
              " * process.\n",
              " * @param {string} inputId Element ID of the input file picker element.\n",
              " * @param {string} outputId Element ID of the output display.\n",
              " * @return {!Iterable<!Object>} Iterable of next steps.\n",
              " */\n",
              "function* uploadFilesStep(inputId, outputId) {\n",
              "  const inputElement = document.getElementById(inputId);\n",
              "  inputElement.disabled = false;\n",
              "\n",
              "  const outputElement = document.getElementById(outputId);\n",
              "  outputElement.innerHTML = '';\n",
              "\n",
              "  const pickedPromise = new Promise((resolve) => {\n",
              "    inputElement.addEventListener('change', (e) => {\n",
              "      resolve(e.target.files);\n",
              "    });\n",
              "  });\n",
              "\n",
              "  const cancel = document.createElement('button');\n",
              "  inputElement.parentElement.appendChild(cancel);\n",
              "  cancel.textContent = 'Cancel upload';\n",
              "  const cancelPromise = new Promise((resolve) => {\n",
              "    cancel.onclick = () => {\n",
              "      resolve(null);\n",
              "    };\n",
              "  });\n",
              "\n",
              "  // Wait for the user to pick the files.\n",
              "  const files = yield {\n",
              "    promise: Promise.race([pickedPromise, cancelPromise]),\n",
              "    response: {\n",
              "      action: 'starting',\n",
              "    }\n",
              "  };\n",
              "\n",
              "  cancel.remove();\n",
              "\n",
              "  // Disable the input element since further picks are not allowed.\n",
              "  inputElement.disabled = true;\n",
              "\n",
              "  if (!files) {\n",
              "    return {\n",
              "      response: {\n",
              "        action: 'complete',\n",
              "      }\n",
              "    };\n",
              "  }\n",
              "\n",
              "  for (const file of files) {\n",
              "    const li = document.createElement('li');\n",
              "    li.append(span(file.name, {fontWeight: 'bold'}));\n",
              "    li.append(span(\n",
              "        `(${file.type || 'n/a'}) - ${file.size} bytes, ` +\n",
              "        `last modified: ${\n",
              "            file.lastModifiedDate ? file.lastModifiedDate.toLocaleDateString() :\n",
              "                                    'n/a'} - `));\n",
              "    const percent = span('0% done');\n",
              "    li.appendChild(percent);\n",
              "\n",
              "    outputElement.appendChild(li);\n",
              "\n",
              "    const fileDataPromise = new Promise((resolve) => {\n",
              "      const reader = new FileReader();\n",
              "      reader.onload = (e) => {\n",
              "        resolve(e.target.result);\n",
              "      };\n",
              "      reader.readAsArrayBuffer(file);\n",
              "    });\n",
              "    // Wait for the data to be ready.\n",
              "    let fileData = yield {\n",
              "      promise: fileDataPromise,\n",
              "      response: {\n",
              "        action: 'continue',\n",
              "      }\n",
              "    };\n",
              "\n",
              "    // Use a chunked sending to avoid message size limits. See b/62115660.\n",
              "    let position = 0;\n",
              "    do {\n",
              "      const length = Math.min(fileData.byteLength - position, MAX_PAYLOAD_SIZE);\n",
              "      const chunk = new Uint8Array(fileData, position, length);\n",
              "      position += length;\n",
              "\n",
              "      const base64 = btoa(String.fromCharCode.apply(null, chunk));\n",
              "      yield {\n",
              "        response: {\n",
              "          action: 'append',\n",
              "          file: file.name,\n",
              "          data: base64,\n",
              "        },\n",
              "      };\n",
              "\n",
              "      let percentDone = fileData.byteLength === 0 ?\n",
              "          100 :\n",
              "          Math.round((position / fileData.byteLength) * 100);\n",
              "      percent.textContent = `${percentDone}% done`;\n",
              "\n",
              "    } while (position < fileData.byteLength);\n",
              "  }\n",
              "\n",
              "  // All done.\n",
              "  yield {\n",
              "    response: {\n",
              "      action: 'complete',\n",
              "    }\n",
              "  };\n",
              "}\n",
              "\n",
              "scope.google = scope.google || {};\n",
              "scope.google.colab = scope.google.colab || {};\n",
              "scope.google.colab._files = {\n",
              "  _uploadFiles,\n",
              "  _uploadFilesContinue,\n",
              "};\n",
              "})(self);\n",
              "</script> "
            ]
          },
          "metadata": {}
        },
        {
          "output_type": "stream",
          "name": "stdout",
          "text": [
            "Saving kaggle.json to kaggle.json\n"
          ]
        },
        {
          "output_type": "execute_result",
          "data": {
            "text/plain": [
              "{'kaggle.json': b'{\"username\":\"kovzanok\",\"key\":\"e4eea536140a3f662fb2a2c616b29a02\"}'}"
            ]
          },
          "metadata": {},
          "execution_count": 6
        }
      ]
    },
    {
      "cell_type": "code",
      "source": [
        "!mkdir -p ~/.kaggle\n",
        "!cp kaggle.json ~/.kaggle/\n",
        "!chmod 600 ~/.kaggle/kaggle.json"
      ],
      "metadata": {
        "id": "Rf3y2SGURFNV"
      },
      "execution_count": 7,
      "outputs": []
    },
    {
      "cell_type": "code",
      "source": [
        "!kaggle datasets download -d jessicali9530/celeba-dataset -f list_landmarks_align_celeba.csv"
      ],
      "metadata": {
        "id": "ziDMfjFORIbU",
        "outputId": "41db2147-179f-4996-dabc-ccd9663a4383",
        "colab": {
          "base_uri": "https://localhost:8080/"
        }
      },
      "execution_count": 18,
      "outputs": [
        {
          "output_type": "stream",
          "name": "stdout",
          "text": [
            "Dataset URL: https://www.kaggle.com/datasets/jessicali9530/celeba-dataset\n",
            "License(s): other\n",
            "list_landmarks_align_celeba.csv: Skipping, found more recently modified local copy (use --force to force download)\n"
          ]
        }
      ]
    },
    {
      "cell_type": "code",
      "source": [
        "!mv list_landmarks_align_celeba.csv list_landmarks_align_celeba.csv.zip"
      ],
      "metadata": {
        "id": "EiCQXLACTOth"
      },
      "execution_count": 19,
      "outputs": []
    },
    {
      "cell_type": "code",
      "source": [
        "!unzip -q list_landmarks_align_celeba.csv.zip -d celeba"
      ],
      "metadata": {
        "id": "W-d0SSrHTU3X"
      },
      "execution_count": 20,
      "outputs": []
    },
    {
      "cell_type": "code",
      "source": [
        "from torch import nn\n",
        "import torch\n",
        "import numpy as np\n",
        "import pandas as pd\n",
        "import matplotlib.pyplot as plt"
      ],
      "metadata": {
        "id": "eHNy9XnXgGHu"
      },
      "execution_count": 91,
      "outputs": []
    },
    {
      "cell_type": "code",
      "source": [
        "df = pd.read_csv('/content/celeba/list_landmarks_align_celeba.csv',index_col=0)"
      ],
      "metadata": {
        "id": "7Rzc0KiIR7Vj"
      },
      "execution_count": 31,
      "outputs": []
    },
    {
      "cell_type": "code",
      "source": [
        "def row_to_coords(row):\n",
        "    return row.to_numpy().reshape(-1, 2)\n",
        "# Добавим колонку с массивом координат:\n",
        "landmarks_df = df.head(200).apply(row_to_coords, axis=1)"
      ],
      "metadata": {
        "id": "1ZCAAESaTbnx"
      },
      "execution_count": 58,
      "outputs": []
    },
    {
      "cell_type": "code",
      "source": [
        "landmarks_array = landmarks_df.drop(columns=['image_name']).to_numpy().reshape(-1)"
      ],
      "metadata": {
        "id": "h0v4vdFSUhHN"
      },
      "execution_count": 69,
      "outputs": []
    },
    {
      "cell_type": "code",
      "source": [
        "def show_heatmaps(heatmaps):\n",
        "    # heatmaps — numpy array с формой (5, 128, 128)\n",
        "    n = heatmaps.shape[0]\n",
        "    plt.figure(figsize=(15, 3))\n",
        "    for i in range(n):\n",
        "        plt.subplot(1, n, i+1)\n",
        "        plt.imshow(heatmaps[i], cmap='hot')\n",
        "        plt.title(f'Heatmap {i+1}')\n",
        "        plt.axis('off')\n",
        "    plt.show()\n",
        "\n",
        "# Пример вызова:\n",
        "# show_heatmaps(твоя_heatmap_массив)\n"
      ],
      "metadata": {
        "id": "iTm1BFQoY3bN"
      },
      "execution_count": 92,
      "outputs": []
    },
    {
      "cell_type": "code",
      "source": [
        "for landmark in landmarks_array:\n",
        "    heat_map = landmarks_to_heatmaps((128,128),landmark)\n",
        "    show_heatmaps(heat_map)\n",
        "    break"
      ],
      "metadata": {
        "id": "b9F79RwpXIU4",
        "outputId": "254a8813-0ecd-4578-d1b7-6fdebd02ec3f",
        "colab": {
          "base_uri": "https://localhost:8080/",
          "height": 259
        }
      },
      "execution_count": 93,
      "outputs": [
        {
          "output_type": "display_data",
          "data": {
            "text/plain": [
              "<Figure size 1500x300 with 5 Axes>"
            ],
            "image/png": "[encoded data removed]"
          },
          "metadata": {}
        }
      ]
    },
    {
      "cell_type": "code",
      "source": [
        "class ResidualBlock(nn.Module):\n",
        "    def __init__(self, in_channels, out_channels):\n",
        "        super().__init__()\n",
        "        self.skip = nn.Identity() if in_channels == out_channels else nn.Conv2d(in_channels, out_channels, 1)\n",
        "\n",
        "        self.conv1 = nn.Conv2d(in_channels, out_channels // 2, 1)\n",
        "        self.bn1 = nn.BatchNorm2d(out_channels // 2)\n",
        "        self.conv2 = nn.Conv2d(out_channels // 2, out_channels // 2, 3, padding=1)\n",
        "        self.bn2 = nn.BatchNorm2d(out_channels // 2)\n",
        "        self.conv3 = nn.Conv2d(out_channels // 2, out_channels, 1)\n",
        "        self.bn3 = nn.BatchNorm2d(out_channels)\n",
        "\n",
        "        self.relu = nn.ReLU(inplace=True)\n",
        "\n",
        "    def forward(self, x):\n",
        "        residual = self.skip(x)\n",
        "        x = self.relu(self.bn1(self.conv1(x)))\n",
        "        x = self.relu(self.bn2(self.conv2(x)))\n",
        "        x = self.bn3(self.conv3(x))\n",
        "        return self.relu(x + residual)"
      ],
      "metadata": {
        "id": "Jv_DRIP0Rqhb"
      },
      "execution_count": 4,
      "outputs": []
    },
    {
      "cell_type": "code",
      "source": [
        "class HourglassBlock(nn.Module):\n",
        "    def __init__(self, channels):\n",
        "        super().__init__()\n",
        "        self.res1 = ResidualBlock(channels, channels)\n",
        "        self.res2 =  ResidualBlock(channels, channels)\n",
        "        self.res_center =  ResidualBlock(channels, channels)\n",
        "        self.res3 =  ResidualBlock(channels, channels)\n",
        "        self.res4 =  ResidualBlock(channels, channels)\n",
        "\n",
        "        self.downsample = nn.MaxPool2d(kernel_size=2,stride=2)\n",
        "        self.upsample = nn.Upsample(scale_factor=2,mode='nearest')\n",
        "\n",
        "    def forward(self, x):\n",
        "        skip1 = self.res1(x)\n",
        "        x = self.downsample(skip1)\n",
        "        skip2 = self.res2(x)\n",
        "        x = self.downsample(skip2)\n",
        "        x = self.res_center(x)\n",
        "        x = self.upsample(x)\n",
        "        x = self.res3(x)+skip2\n",
        "        x = self.upsample(x)\n",
        "        x = self.res4(x)+skip1\n",
        "        return x"
      ],
      "metadata": {
        "id": "uwcRn4U9CNdd"
      },
      "execution_count": 3,
      "outputs": []
    },
    {
      "cell_type": "code",
      "source": [
        "class HourglassNet(nn.Module):\n",
        "    def __init__(self):\n",
        "        super().__init__()\n",
        "        self.initial_conv = nn.Conv2d(3, 64, kernel_size=7, stride=1, padding=3)\n",
        "        self.bn = nn.BatchNorm2d(64)\n",
        "        self.relu = nn.ReLU()\n",
        "\n",
        "        self.hg1 = HourglassBlock(64)\n",
        "        self.hg2 = HourglassBlock(64)\n",
        "        self.hg3 = HourglassBlock(64)\n",
        "\n",
        "        self.head1 = nn.Conv2d(64, 5)\n",
        "        self.head2 = nn.Conv2d(64, 5)\n",
        "        self.head3 = nn.Conv2d(64, 5)\n",
        "\n",
        "\n",
        "    def forward(self, x):\n",
        "        x = self.initial_conv(x)\n",
        "        x = self.relu(self.bn(x))\n",
        "        skip1 = self.hg1(x)\n",
        "        res1 = self.head1(skip1)\n",
        "        skip2 = self.hg2(skip1)+skip1\n",
        "        res2 = self.head2(skip2)\n",
        "        x = self.hg3(skip2)+skip2\n",
        "        res3 = self.head3(x)\n",
        "        return [res1, res2, res3]\n",
        "\n"
      ],
      "metadata": {
        "id": "VblYJ_BhDQPV"
      },
      "execution_count": null,
      "outputs": []
    }
  ]
}